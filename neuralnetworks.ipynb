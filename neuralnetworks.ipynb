{
 "cells": [
  {
   "cell_type": "markdown",
   "id": "032f0bbc",
   "metadata": {},
   "source": [
    "Basic Neural Network Implementation on Xilinx PYNQ Z2 Board"
   ]
  },
  {
   "cell_type": "markdown",
   "id": "9bf5cd2c",
   "metadata": {},
   "source": [
    "import Library"
   ]
  },
  {
   "cell_type": "code",
   "execution_count": 66,
   "id": "31fb74f9",
   "metadata": {},
   "outputs": [],
   "source": [
    "import numpy as np"
   ]
  },
  {
   "cell_type": "markdown",
   "id": "9857ceb3",
   "metadata": {},
   "source": [
    "Get the Data"
   ]
  },
  {
   "cell_type": "code",
   "execution_count": 67,
   "id": "cbc5731e",
   "metadata": {},
   "outputs": [],
   "source": [
    "a=np.array([[0,0,1],[0,1,1],[1,0,1],[1,1,1]])\n",
    "b= np.array([[0,1,1,0]]).T"
   ]
  },
  {
   "cell_type": "markdown",
   "id": "502f5d66",
   "metadata": {},
   "source": [
    "Make Weights for connection "
   ]
  },
  {
   "cell_type": "code",
   "execution_count": 68,
   "id": "231eaf17",
   "metadata": {},
   "outputs": [],
   "source": [
    "wgt0=2*np.random.random((3,4))-1\n",
    "wgt1=2*np.random.random((4,1))-1"
   ]
  },
  {
   "cell_type": "code",
   "execution_count": 69,
   "id": "98c64cc2",
   "metadata": {},
   "outputs": [],
   "source": [
    "for itr in range(60000):\n",
    "    #Activation function that acts for input and 1st hidden layer\n",
    "    lay1=1/(1+np.exp(-np.dot(a,wgt0)))\n",
    "    #Activation function that acts for 1st hidden layer and 2nd hidden layer\n",
    "    lay2=1/(1+np.exp(-np.dot(lay1,wgt1)))\n",
    "    #Gradient Calculation\n",
    "    lay2_delta=(b-lay2)*(lay2*(1-lay2))\n",
    "    lay1_delta=lay2_delta.dot(wgt1.T)*(lay1*(1-lay1))\n",
    "    #weights updates\n",
    "    wgt1+=lay1.T.dot(lay2_delta)\n",
    "    wgt0+=a.T.dot(lay1_delta)\n",
    "                      "
   ]
  },
  {
   "cell_type": "code",
   "execution_count": 70,
   "id": "0ede7c0e",
   "metadata": {},
   "outputs": [
    {
     "data": {
      "text/plain": [
       "array([[ 2.24646577, -6.31523923, -6.93627868,  1.15669711],\n",
       "       [ 2.19247259,  7.14746173,  5.99962009, -2.14884278],\n",
       "       [ 0.62730854,  3.13657504, -2.9520311 , -0.58343527]])"
      ]
     },
     "execution_count": 70,
     "metadata": {},
     "output_type": "execute_result"
    }
   ],
   "source": [
    "wgt0"
   ]
  },
  {
   "cell_type": "code",
   "execution_count": 71,
   "id": "e65a4736",
   "metadata": {},
   "outputs": [
    {
     "data": {
      "text/plain": [
       "array([[  4.48236463],\n",
       "       [-10.70395691],\n",
       "       [ 12.34504401],\n",
       "       [  2.60369287]])"
      ]
     },
     "execution_count": 71,
     "metadata": {},
     "output_type": "execute_result"
    }
   ],
   "source": [
    "wgt1"
   ]
  },
  {
   "cell_type": "code",
   "execution_count": 72,
   "id": "90465dfc",
   "metadata": {},
   "outputs": [],
   "source": [
    "a_test=[1,1,0]\n",
    "output_first_layer=np.dot(a_test,w0)"
   ]
  },
  {
   "cell_type": "code",
   "execution_count": 73,
   "id": "173d2945",
   "metadata": {},
   "outputs": [],
   "source": [
    "final_output=np.dot(output_first_layer,w1)"
   ]
  },
  {
   "cell_type": "code",
   "execution_count": 74,
   "id": "4f735a66",
   "metadata": {},
   "outputs": [
    {
     "data": {
      "text/plain": [
       "array([-1.30059205])"
      ]
     },
     "execution_count": 74,
     "metadata": {},
     "output_type": "execute_result"
    }
   ],
   "source": [
    "final_output"
   ]
  },
  {
   "cell_type": "code",
   "execution_count": null,
   "id": "c477dd4f",
   "metadata": {},
   "outputs": [],
   "source": []
  }
 ],
 "metadata": {
  "kernelspec": {
   "display_name": "Python 3",
   "language": "python",
   "name": "python3"
  },
  "language_info": {
   "codemirror_mode": {
    "name": "ipython",
    "version": 3
   },
   "file_extension": ".py",
   "mimetype": "text/x-python",
   "name": "python",
   "nbconvert_exporter": "python",
   "pygments_lexer": "ipython3",
   "version": "3.8.2"
  }
 },
 "nbformat": 4,
 "nbformat_minor": 5
}
